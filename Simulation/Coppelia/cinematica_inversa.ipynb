{
 "cells": [
  {
   "cell_type": "code",
   "execution_count": 2,
   "outputs": [
    {
     "data": {
      "text/plain": "(theta1, theta2, theta3, theta4, l1, l2, l3, l4, theta, alpha, a, d)",
      "text/latex": "$\\displaystyle \\left( \\theta_{1}, \\  \\theta_{2}, \\  \\theta_{3}, \\  \\theta_{4}, \\  l_{1}, \\  l_{2}, \\  l_{3}, \\  l_{4}, \\  \\theta, \\  \\alpha, \\  a, \\  d\\right)$"
     },
     "execution_count": 2,
     "metadata": {},
     "output_type": "execute_result"
    }
   ],
   "source": [
    "import numpy as np\n",
    "import sympy as sp\n",
    "from sympy import *\n",
    "from sympy.physics.vector import init_vprinting\n",
    "init_vprinting(use_latex='mathjax', pretty_print=False)\n",
    "\n",
    "# declaramos los símbolos (longitudes, variables, etc.) que se utilizarán para una formulación posterior.\n",
    "\n",
    "from sympy.physics.mechanics import dynamicsymbols\n",
    "theta1, theta2, theta3, theta4, l1, l2, l3, l4, theta, alpha, a, d = dynamicsymbols('theta1 theta2 theta3 theta4 l1 l2 l3 l4 theta alpha a d')\n",
    "theta1, theta2, theta3, theta4, l1, l2, l3, l4, theta, alpha, a, d"
   ],
   "metadata": {
    "collapsed": false,
    "pycharm": {
     "name": "#%%\n"
    }
   }
  },
  {
   "cell_type": "code",
   "execution_count": 3,
   "outputs": [
    {
     "data": {
      "text/plain": "Matrix([\n[cos(theta), -sin(theta)*cos(alpha),  sin(alpha)*sin(theta), a*cos(theta)],\n[sin(theta),  cos(alpha)*cos(theta), -sin(alpha)*cos(theta), a*sin(theta)],\n[         0,             sin(alpha),             cos(alpha),            d],\n[         0,                      0,                      0,            1]])",
      "text/latex": "$\\displaystyle \\left[\\begin{matrix}\\cos{\\left(\\theta \\right)} & - \\sin{\\left(\\theta \\right)} \\cos{\\left(\\alpha \\right)} & \\sin{\\left(\\alpha \\right)} \\sin{\\left(\\theta \\right)} & a \\cos{\\left(\\theta \\right)}\\\\\\sin{\\left(\\theta \\right)} & \\cos{\\left(\\alpha \\right)} \\cos{\\left(\\theta \\right)} & - \\sin{\\left(\\alpha \\right)} \\cos{\\left(\\theta \\right)} & a \\sin{\\left(\\theta \\right)}\\\\0 & \\sin{\\left(\\alpha \\right)} & \\cos{\\left(\\alpha \\right)} & d\\\\0 & 0 & 0 & 1\\end{matrix}\\right]$"
     },
     "execution_count": 3,
     "metadata": {},
     "output_type": "execute_result"
    }
   ],
   "source": [
    "# La matriz de transformación homogénea estándar se representa como:\n",
    "\n",
    "rot = sp.Matrix([[sp.cos(theta), -sp.sin(theta)*sp.cos(alpha), sp.sin(theta)*sp.sin(alpha)],\n",
    "                 [sp.sin(theta), sp.cos(theta)*sp.cos(alpha), -sp.cos(theta)*sp.sin(alpha)],\n",
    "                 [0, sp.sin(alpha), sp.cos(alpha)]])\n",
    "\n",
    "trans = sp.Matrix([a*sp.cos(theta),a*sp.sin(theta),d])\n",
    "\n",
    "last_row = sp.Matrix([[0, 0, 0, 1]])\n",
    "\n",
    "m = sp.Matrix.vstack(sp.Matrix.hstack(rot, trans), last_row)\n",
    "m"
   ],
   "metadata": {
    "collapsed": false,
    "pycharm": {
     "name": "#%%\n"
    }
   }
  },
  {
   "cell_type": "code",
   "execution_count": 4,
   "outputs": [
    {
     "data": {
      "text/plain": "Matrix([\n[cos(theta1),  0.45*sin(theta1),  0.89*sin(theta1),    0],\n[sin(theta1), -0.45*cos(theta1), -0.89*cos(theta1),    0],\n[          0,              0.89,             -0.45, 0.25],\n[          0,                 0,                 0,  1.0]])",
      "text/latex": "$\\displaystyle \\left[\\begin{matrix}\\cos{\\left(\\theta_{1} \\right)} & 0.45 \\sin{\\left(\\theta_{1} \\right)} & 0.89 \\sin{\\left(\\theta_{1} \\right)} & 0\\\\\\sin{\\left(\\theta_{1} \\right)} & - 0.45 \\cos{\\left(\\theta_{1} \\right)} & - 0.89 \\cos{\\left(\\theta_{1} \\right)} & 0\\\\0 & 0.89 & -0.45 & 0.25\\\\0 & 0 & 0 & 1.0\\end{matrix}\\right]$"
     },
     "execution_count": 4,
     "metadata": {},
     "output_type": "execute_result"
    }
   ],
   "source": [
    "# Transformacion: 1r eje de  '0' a '1'\n",
    "m01 = m.subs({ theta:theta1, d:0.25, a:0 , alpha:90})\n",
    "N(m01,2)"
   ],
   "metadata": {
    "collapsed": false,
    "pycharm": {
     "name": "#%%\n"
    }
   }
  },
  {
   "cell_type": "code",
   "execution_count": 5,
   "outputs": [
    {
     "data": {
      "text/plain": "Matrix([\n[cos(theta2), -sin(theta2), 0, 0.175*cos(theta2)],\n[sin(theta2),  cos(theta2), 0, 0.175*sin(theta2)],\n[          0,            0, 1,                 0],\n[          0,            0, 0,                 1]])",
      "text/latex": "$\\displaystyle \\left[\\begin{matrix}\\cos{\\left(\\theta_{2} \\right)} & - \\sin{\\left(\\theta_{2} \\right)} & 0 & 0.175 \\cos{\\left(\\theta_{2} \\right)}\\\\\\sin{\\left(\\theta_{2} \\right)} & \\cos{\\left(\\theta_{2} \\right)} & 0 & 0.175 \\sin{\\left(\\theta_{2} \\right)}\\\\0 & 0 & 1 & 0\\\\0 & 0 & 0 & 1\\end{matrix}\\right]$"
     },
     "execution_count": 5,
     "metadata": {},
     "output_type": "execute_result"
    }
   ],
   "source": [
    "# Transformacion: 2º eje de  '1' a '2'\n",
    "m12 = m.subs({ theta:theta2, d:0, a:0.175 ,alpha:0})\n",
    "m12"
   ],
   "metadata": {
    "collapsed": false,
    "pycharm": {
     "name": "#%%\n"
    }
   }
  },
  {
   "cell_type": "code",
   "execution_count": 6,
   "outputs": [
    {
     "data": {
      "text/plain": "Matrix([\n[cos(theta3), -sin(theta3), 0, 0.175*cos(theta3)],\n[sin(theta3),  cos(theta3), 0, 0.175*sin(theta3)],\n[          0,            0, 1,                 0],\n[          0,            0, 0,                 1]])",
      "text/latex": "$\\displaystyle \\left[\\begin{matrix}\\cos{\\left(\\theta_{3} \\right)} & - \\sin{\\left(\\theta_{3} \\right)} & 0 & 0.175 \\cos{\\left(\\theta_{3} \\right)}\\\\\\sin{\\left(\\theta_{3} \\right)} & \\cos{\\left(\\theta_{3} \\right)} & 0 & 0.175 \\sin{\\left(\\theta_{3} \\right)}\\\\0 & 0 & 1 & 0\\\\0 & 0 & 0 & 1\\end{matrix}\\right]$"
     },
     "execution_count": 6,
     "metadata": {},
     "output_type": "execute_result"
    }
   ],
   "source": [
    "# Transformacion: 3r eje de  '2' a '3'\n",
    "m23 = m.subs({ theta:theta3, d:0, a:0.175 ,alpha:0})\n",
    "m23"
   ],
   "metadata": {
    "collapsed": false,
    "pycharm": {
     "name": "#%%\n"
    }
   }
  },
  {
   "cell_type": "code",
   "execution_count": 7,
   "outputs": [
    {
     "data": {
      "text/plain": "Matrix([\n[cos(theta4), -sin(theta4), 0, 0.075*cos(theta4)],\n[sin(theta4),  cos(theta4), 0, 0.075*sin(theta4)],\n[          0,            0, 1,                 0],\n[          0,            0, 0,                 1]])",
      "text/latex": "$\\displaystyle \\left[\\begin{matrix}\\cos{\\left(\\theta_{4} \\right)} & - \\sin{\\left(\\theta_{4} \\right)} & 0 & 0.075 \\cos{\\left(\\theta_{4} \\right)}\\\\\\sin{\\left(\\theta_{4} \\right)} & \\cos{\\left(\\theta_{4} \\right)} & 0 & 0.075 \\sin{\\left(\\theta_{4} \\right)}\\\\0 & 0 & 1 & 0\\\\0 & 0 & 0 & 1\\end{matrix}\\right]$"
     },
     "execution_count": 7,
     "metadata": {},
     "output_type": "execute_result"
    }
   ],
   "source": [
    "# Transformacion: 4o eje de  '3' a '4'\n",
    "m34 = m.subs({ theta:theta4, d:0, a:0.075 ,alpha:0})\n",
    "m34"
   ],
   "metadata": {
    "collapsed": false,
    "pycharm": {
     "name": "#%%\n"
    }
   }
  },
  {
   "cell_type": "code",
   "execution_count": 8,
   "outputs": [
    {
     "data": {
      "text/plain": "Matrix([\n[(-(-sin(theta1)*sin(theta2)*cos(90) + cos(theta1)*cos(theta2))*sin(theta3) + (-sin(theta1)*cos(90)*cos(theta2) - sin(theta2)*cos(theta1))*cos(theta3))*sin(theta4) + ((-sin(theta1)*sin(theta2)*cos(90) + cos(theta1)*cos(theta2))*cos(theta3) + (-sin(theta1)*cos(90)*cos(theta2) - sin(theta2)*cos(theta1))*sin(theta3))*cos(theta4), (-(-sin(theta1)*sin(theta2)*cos(90) + cos(theta1)*cos(theta2))*sin(theta3) + (-sin(theta1)*cos(90)*cos(theta2) - sin(theta2)*cos(theta1))*cos(theta3))*cos(theta4) - ((-sin(theta1)*sin(theta2)*cos(90) + cos(theta1)*cos(theta2))*cos(theta3) + (-sin(theta1)*cos(90)*cos(theta2) - sin(theta2)*cos(theta1))*sin(theta3))*sin(theta4),  sin(90)*sin(theta1), 0.075*(-(-sin(theta1)*sin(theta2)*cos(90) + cos(theta1)*cos(theta2))*sin(theta3) + (-sin(theta1)*cos(90)*cos(theta2) - sin(theta2)*cos(theta1))*cos(theta3))*sin(theta4) + 0.075*((-sin(theta1)*sin(theta2)*cos(90) + cos(theta1)*cos(theta2))*cos(theta3) + (-sin(theta1)*cos(90)*cos(theta2) - sin(theta2)*cos(theta1))*sin(theta3))*cos(theta4) + 0.175*(-sin(theta1)*sin(theta2)*cos(90) + cos(theta1)*cos(theta2))*cos(theta3) + 0.175*(-sin(theta1)*cos(90)*cos(theta2) - sin(theta2)*cos(theta1))*sin(theta3) - 0.175*sin(theta1)*sin(theta2)*cos(90) + 0.175*cos(theta1)*cos(theta2)],\n[   ((-sin(theta1)*sin(theta2) + cos(90)*cos(theta1)*cos(theta2))*sin(theta3) + (sin(theta1)*cos(theta2) + sin(theta2)*cos(90)*cos(theta1))*cos(theta3))*cos(theta4) + ((-sin(theta1)*sin(theta2) + cos(90)*cos(theta1)*cos(theta2))*cos(theta3) - (sin(theta1)*cos(theta2) + sin(theta2)*cos(90)*cos(theta1))*sin(theta3))*sin(theta4),   -((-sin(theta1)*sin(theta2) + cos(90)*cos(theta1)*cos(theta2))*sin(theta3) + (sin(theta1)*cos(theta2) + sin(theta2)*cos(90)*cos(theta1))*cos(theta3))*sin(theta4) + ((-sin(theta1)*sin(theta2) + cos(90)*cos(theta1)*cos(theta2))*cos(theta3) - (sin(theta1)*cos(theta2) + sin(theta2)*cos(90)*cos(theta1))*sin(theta3))*cos(theta4), -sin(90)*cos(theta1),     0.075*((-sin(theta1)*sin(theta2) + cos(90)*cos(theta1)*cos(theta2))*sin(theta3) + (sin(theta1)*cos(theta2) + sin(theta2)*cos(90)*cos(theta1))*cos(theta3))*cos(theta4) + 0.075*((-sin(theta1)*sin(theta2) + cos(90)*cos(theta1)*cos(theta2))*cos(theta3) - (sin(theta1)*cos(theta2) + sin(theta2)*cos(90)*cos(theta1))*sin(theta3))*sin(theta4) + 0.175*(-sin(theta1)*sin(theta2) + cos(90)*cos(theta1)*cos(theta2))*sin(theta3) + 0.175*(sin(theta1)*cos(theta2) + sin(theta2)*cos(90)*cos(theta1))*cos(theta3) + 0.175*sin(theta1)*cos(theta2) + 0.175*sin(theta2)*cos(90)*cos(theta1)],\n[                                                                                                                                                                    (-sin(90)*sin(theta2)*sin(theta3) + sin(90)*cos(theta2)*cos(theta3))*sin(theta4) + (sin(90)*sin(theta2)*cos(theta3) + sin(90)*sin(theta3)*cos(theta2))*cos(theta4),                                                                                                                                                                     (-sin(90)*sin(theta2)*sin(theta3) + sin(90)*cos(theta2)*cos(theta3))*cos(theta4) - (sin(90)*sin(theta2)*cos(theta3) + sin(90)*sin(theta3)*cos(theta2))*sin(theta4),              cos(90),                                                                                                                                                                                                                                                                                            0.075*(-sin(90)*sin(theta2)*sin(theta3) + sin(90)*cos(theta2)*cos(theta3))*sin(theta4) + 0.075*(sin(90)*sin(theta2)*cos(theta3) + sin(90)*sin(theta3)*cos(theta2))*cos(theta4) + 0.175*sin(90)*sin(theta2)*cos(theta3) + 0.175*sin(90)*sin(theta2) + 0.175*sin(90)*sin(theta3)*cos(theta2) + 0.25],\n[                                                                                                                                                                                                                                                                                                                                     0,                                                                                                                                                                                                                                                                                                                                      0,                    0,                                                                                                                                                                                                                                                                                                                                                                                                                                                                                                                                                                                            1]])",
      "text/latex": "$\\displaystyle \\left[\\begin{matrix}\\left(- \\left(- \\sin{\\left(\\theta_{1} \\right)} \\sin{\\left(\\theta_{2} \\right)} \\cos{\\left(90 \\right)} + \\cos{\\left(\\theta_{1} \\right)} \\cos{\\left(\\theta_{2} \\right)}\\right) \\sin{\\left(\\theta_{3} \\right)} + \\left(- \\sin{\\left(\\theta_{1} \\right)} \\cos{\\left(90 \\right)} \\cos{\\left(\\theta_{2} \\right)} - \\sin{\\left(\\theta_{2} \\right)} \\cos{\\left(\\theta_{1} \\right)}\\right) \\cos{\\left(\\theta_{3} \\right)}\\right) \\sin{\\left(\\theta_{4} \\right)} + \\left(\\left(- \\sin{\\left(\\theta_{1} \\right)} \\sin{\\left(\\theta_{2} \\right)} \\cos{\\left(90 \\right)} + \\cos{\\left(\\theta_{1} \\right)} \\cos{\\left(\\theta_{2} \\right)}\\right) \\cos{\\left(\\theta_{3} \\right)} + \\left(- \\sin{\\left(\\theta_{1} \\right)} \\cos{\\left(90 \\right)} \\cos{\\left(\\theta_{2} \\right)} - \\sin{\\left(\\theta_{2} \\right)} \\cos{\\left(\\theta_{1} \\right)}\\right) \\sin{\\left(\\theta_{3} \\right)}\\right) \\cos{\\left(\\theta_{4} \\right)} & \\left(- \\left(- \\sin{\\left(\\theta_{1} \\right)} \\sin{\\left(\\theta_{2} \\right)} \\cos{\\left(90 \\right)} + \\cos{\\left(\\theta_{1} \\right)} \\cos{\\left(\\theta_{2} \\right)}\\right) \\sin{\\left(\\theta_{3} \\right)} + \\left(- \\sin{\\left(\\theta_{1} \\right)} \\cos{\\left(90 \\right)} \\cos{\\left(\\theta_{2} \\right)} - \\sin{\\left(\\theta_{2} \\right)} \\cos{\\left(\\theta_{1} \\right)}\\right) \\cos{\\left(\\theta_{3} \\right)}\\right) \\cos{\\left(\\theta_{4} \\right)} - \\left(\\left(- \\sin{\\left(\\theta_{1} \\right)} \\sin{\\left(\\theta_{2} \\right)} \\cos{\\left(90 \\right)} + \\cos{\\left(\\theta_{1} \\right)} \\cos{\\left(\\theta_{2} \\right)}\\right) \\cos{\\left(\\theta_{3} \\right)} + \\left(- \\sin{\\left(\\theta_{1} \\right)} \\cos{\\left(90 \\right)} \\cos{\\left(\\theta_{2} \\right)} - \\sin{\\left(\\theta_{2} \\right)} \\cos{\\left(\\theta_{1} \\right)}\\right) \\sin{\\left(\\theta_{3} \\right)}\\right) \\sin{\\left(\\theta_{4} \\right)} & \\sin{\\left(90 \\right)} \\sin{\\left(\\theta_{1} \\right)} & 0.075 \\left(- \\left(- \\sin{\\left(\\theta_{1} \\right)} \\sin{\\left(\\theta_{2} \\right)} \\cos{\\left(90 \\right)} + \\cos{\\left(\\theta_{1} \\right)} \\cos{\\left(\\theta_{2} \\right)}\\right) \\sin{\\left(\\theta_{3} \\right)} + \\left(- \\sin{\\left(\\theta_{1} \\right)} \\cos{\\left(90 \\right)} \\cos{\\left(\\theta_{2} \\right)} - \\sin{\\left(\\theta_{2} \\right)} \\cos{\\left(\\theta_{1} \\right)}\\right) \\cos{\\left(\\theta_{3} \\right)}\\right) \\sin{\\left(\\theta_{4} \\right)} + 0.075 \\left(\\left(- \\sin{\\left(\\theta_{1} \\right)} \\sin{\\left(\\theta_{2} \\right)} \\cos{\\left(90 \\right)} + \\cos{\\left(\\theta_{1} \\right)} \\cos{\\left(\\theta_{2} \\right)}\\right) \\cos{\\left(\\theta_{3} \\right)} + \\left(- \\sin{\\left(\\theta_{1} \\right)} \\cos{\\left(90 \\right)} \\cos{\\left(\\theta_{2} \\right)} - \\sin{\\left(\\theta_{2} \\right)} \\cos{\\left(\\theta_{1} \\right)}\\right) \\sin{\\left(\\theta_{3} \\right)}\\right) \\cos{\\left(\\theta_{4} \\right)} + 0.175 \\left(- \\sin{\\left(\\theta_{1} \\right)} \\sin{\\left(\\theta_{2} \\right)} \\cos{\\left(90 \\right)} + \\cos{\\left(\\theta_{1} \\right)} \\cos{\\left(\\theta_{2} \\right)}\\right) \\cos{\\left(\\theta_{3} \\right)} + 0.175 \\left(- \\sin{\\left(\\theta_{1} \\right)} \\cos{\\left(90 \\right)} \\cos{\\left(\\theta_{2} \\right)} - \\sin{\\left(\\theta_{2} \\right)} \\cos{\\left(\\theta_{1} \\right)}\\right) \\sin{\\left(\\theta_{3} \\right)} - 0.175 \\sin{\\left(\\theta_{1} \\right)} \\sin{\\left(\\theta_{2} \\right)} \\cos{\\left(90 \\right)} + 0.175 \\cos{\\left(\\theta_{1} \\right)} \\cos{\\left(\\theta_{2} \\right)}\\\\\\left(\\left(- \\sin{\\left(\\theta_{1} \\right)} \\sin{\\left(\\theta_{2} \\right)} + \\cos{\\left(90 \\right)} \\cos{\\left(\\theta_{1} \\right)} \\cos{\\left(\\theta_{2} \\right)}\\right) \\sin{\\left(\\theta_{3} \\right)} + \\left(\\sin{\\left(\\theta_{1} \\right)} \\cos{\\left(\\theta_{2} \\right)} + \\sin{\\left(\\theta_{2} \\right)} \\cos{\\left(90 \\right)} \\cos{\\left(\\theta_{1} \\right)}\\right) \\cos{\\left(\\theta_{3} \\right)}\\right) \\cos{\\left(\\theta_{4} \\right)} + \\left(\\left(- \\sin{\\left(\\theta_{1} \\right)} \\sin{\\left(\\theta_{2} \\right)} + \\cos{\\left(90 \\right)} \\cos{\\left(\\theta_{1} \\right)} \\cos{\\left(\\theta_{2} \\right)}\\right) \\cos{\\left(\\theta_{3} \\right)} - \\left(\\sin{\\left(\\theta_{1} \\right)} \\cos{\\left(\\theta_{2} \\right)} + \\sin{\\left(\\theta_{2} \\right)} \\cos{\\left(90 \\right)} \\cos{\\left(\\theta_{1} \\right)}\\right) \\sin{\\left(\\theta_{3} \\right)}\\right) \\sin{\\left(\\theta_{4} \\right)} & - \\left(\\left(- \\sin{\\left(\\theta_{1} \\right)} \\sin{\\left(\\theta_{2} \\right)} + \\cos{\\left(90 \\right)} \\cos{\\left(\\theta_{1} \\right)} \\cos{\\left(\\theta_{2} \\right)}\\right) \\sin{\\left(\\theta_{3} \\right)} + \\left(\\sin{\\left(\\theta_{1} \\right)} \\cos{\\left(\\theta_{2} \\right)} + \\sin{\\left(\\theta_{2} \\right)} \\cos{\\left(90 \\right)} \\cos{\\left(\\theta_{1} \\right)}\\right) \\cos{\\left(\\theta_{3} \\right)}\\right) \\sin{\\left(\\theta_{4} \\right)} + \\left(\\left(- \\sin{\\left(\\theta_{1} \\right)} \\sin{\\left(\\theta_{2} \\right)} + \\cos{\\left(90 \\right)} \\cos{\\left(\\theta_{1} \\right)} \\cos{\\left(\\theta_{2} \\right)}\\right) \\cos{\\left(\\theta_{3} \\right)} - \\left(\\sin{\\left(\\theta_{1} \\right)} \\cos{\\left(\\theta_{2} \\right)} + \\sin{\\left(\\theta_{2} \\right)} \\cos{\\left(90 \\right)} \\cos{\\left(\\theta_{1} \\right)}\\right) \\sin{\\left(\\theta_{3} \\right)}\\right) \\cos{\\left(\\theta_{4} \\right)} & - \\sin{\\left(90 \\right)} \\cos{\\left(\\theta_{1} \\right)} & 0.075 \\left(\\left(- \\sin{\\left(\\theta_{1} \\right)} \\sin{\\left(\\theta_{2} \\right)} + \\cos{\\left(90 \\right)} \\cos{\\left(\\theta_{1} \\right)} \\cos{\\left(\\theta_{2} \\right)}\\right) \\sin{\\left(\\theta_{3} \\right)} + \\left(\\sin{\\left(\\theta_{1} \\right)} \\cos{\\left(\\theta_{2} \\right)} + \\sin{\\left(\\theta_{2} \\right)} \\cos{\\left(90 \\right)} \\cos{\\left(\\theta_{1} \\right)}\\right) \\cos{\\left(\\theta_{3} \\right)}\\right) \\cos{\\left(\\theta_{4} \\right)} + 0.075 \\left(\\left(- \\sin{\\left(\\theta_{1} \\right)} \\sin{\\left(\\theta_{2} \\right)} + \\cos{\\left(90 \\right)} \\cos{\\left(\\theta_{1} \\right)} \\cos{\\left(\\theta_{2} \\right)}\\right) \\cos{\\left(\\theta_{3} \\right)} - \\left(\\sin{\\left(\\theta_{1} \\right)} \\cos{\\left(\\theta_{2} \\right)} + \\sin{\\left(\\theta_{2} \\right)} \\cos{\\left(90 \\right)} \\cos{\\left(\\theta_{1} \\right)}\\right) \\sin{\\left(\\theta_{3} \\right)}\\right) \\sin{\\left(\\theta_{4} \\right)} + 0.175 \\left(- \\sin{\\left(\\theta_{1} \\right)} \\sin{\\left(\\theta_{2} \\right)} + \\cos{\\left(90 \\right)} \\cos{\\left(\\theta_{1} \\right)} \\cos{\\left(\\theta_{2} \\right)}\\right) \\sin{\\left(\\theta_{3} \\right)} + 0.175 \\left(\\sin{\\left(\\theta_{1} \\right)} \\cos{\\left(\\theta_{2} \\right)} + \\sin{\\left(\\theta_{2} \\right)} \\cos{\\left(90 \\right)} \\cos{\\left(\\theta_{1} \\right)}\\right) \\cos{\\left(\\theta_{3} \\right)} + 0.175 \\sin{\\left(\\theta_{1} \\right)} \\cos{\\left(\\theta_{2} \\right)} + 0.175 \\sin{\\left(\\theta_{2} \\right)} \\cos{\\left(90 \\right)} \\cos{\\left(\\theta_{1} \\right)}\\\\\\left(- \\sin{\\left(90 \\right)} \\sin{\\left(\\theta_{2} \\right)} \\sin{\\left(\\theta_{3} \\right)} + \\sin{\\left(90 \\right)} \\cos{\\left(\\theta_{2} \\right)} \\cos{\\left(\\theta_{3} \\right)}\\right) \\sin{\\left(\\theta_{4} \\right)} + \\left(\\sin{\\left(90 \\right)} \\sin{\\left(\\theta_{2} \\right)} \\cos{\\left(\\theta_{3} \\right)} + \\sin{\\left(90 \\right)} \\sin{\\left(\\theta_{3} \\right)} \\cos{\\left(\\theta_{2} \\right)}\\right) \\cos{\\left(\\theta_{4} \\right)} & \\left(- \\sin{\\left(90 \\right)} \\sin{\\left(\\theta_{2} \\right)} \\sin{\\left(\\theta_{3} \\right)} + \\sin{\\left(90 \\right)} \\cos{\\left(\\theta_{2} \\right)} \\cos{\\left(\\theta_{3} \\right)}\\right) \\cos{\\left(\\theta_{4} \\right)} - \\left(\\sin{\\left(90 \\right)} \\sin{\\left(\\theta_{2} \\right)} \\cos{\\left(\\theta_{3} \\right)} + \\sin{\\left(90 \\right)} \\sin{\\left(\\theta_{3} \\right)} \\cos{\\left(\\theta_{2} \\right)}\\right) \\sin{\\left(\\theta_{4} \\right)} & \\cos{\\left(90 \\right)} & 0.075 \\left(- \\sin{\\left(90 \\right)} \\sin{\\left(\\theta_{2} \\right)} \\sin{\\left(\\theta_{3} \\right)} + \\sin{\\left(90 \\right)} \\cos{\\left(\\theta_{2} \\right)} \\cos{\\left(\\theta_{3} \\right)}\\right) \\sin{\\left(\\theta_{4} \\right)} + 0.075 \\left(\\sin{\\left(90 \\right)} \\sin{\\left(\\theta_{2} \\right)} \\cos{\\left(\\theta_{3} \\right)} + \\sin{\\left(90 \\right)} \\sin{\\left(\\theta_{3} \\right)} \\cos{\\left(\\theta_{2} \\right)}\\right) \\cos{\\left(\\theta_{4} \\right)} + 0.175 \\sin{\\left(90 \\right)} \\sin{\\left(\\theta_{2} \\right)} \\cos{\\left(\\theta_{3} \\right)} + 0.175 \\sin{\\left(90 \\right)} \\sin{\\left(\\theta_{2} \\right)} + 0.175 \\sin{\\left(90 \\right)} \\sin{\\left(\\theta_{3} \\right)} \\cos{\\left(\\theta_{2} \\right)} + 0.25\\\\0 & 0 & 0 & 1\\end{matrix}\\right]$"
     },
     "execution_count": 8,
     "metadata": {},
     "output_type": "execute_result"
    }
   ],
   "source": [
    "# SACAMOS LA MATRIZ DE TODOS LOS EJES, COM VEIS SOLO CAMBIA LA ORIENTACIÓN DEL MANIPULADOR\n",
    "m04 = (m01*m12*m23*m34)\n",
    "m04"
   ],
   "metadata": {
    "collapsed": false,
    "pycharm": {
     "name": "#%%\n"
    }
   }
  },
  {
   "cell_type": "code",
   "execution_count": 9,
   "outputs": [
    {
     "data": {
      "text/plain": "Matrix([\n[-sin(theta2 + theta3 + theta4)*sin(theta1)*cos(90) + cos(theta2 + theta3 + theta4)*cos(theta1), -sin(theta2 + theta3 + theta4)*cos(theta1) - sin(theta1)*cos(90)*cos(theta2 + theta3 + theta4),  sin(90)*sin(theta1), -0.175*sin(theta2 + theta3)*sin(theta1)*cos(90) - 0.075*sin(theta2 + theta3 + theta4)*sin(theta1)*cos(90) - 0.175*sin(theta1)*sin(theta2)*cos(90) + 0.175*cos(theta2 + theta3)*cos(theta1) + 0.075*cos(theta2 + theta3 + theta4)*cos(theta1) + 0.175*cos(theta1)*cos(theta2)],\n[ sin(theta2 + theta3 + theta4)*cos(90)*cos(theta1) + sin(theta1)*cos(theta2 + theta3 + theta4), -sin(theta2 + theta3 + theta4)*sin(theta1) + cos(90)*cos(theta2 + theta3 + theta4)*cos(theta1), -sin(90)*cos(theta1),  0.175*sin(theta2 + theta3)*cos(90)*cos(theta1) + 0.075*sin(theta2 + theta3 + theta4)*cos(90)*cos(theta1) + 0.175*sin(theta1)*cos(theta2 + theta3) + 0.075*sin(theta1)*cos(theta2 + theta3 + theta4) + 0.175*sin(theta1)*cos(theta2) + 0.175*sin(theta2)*cos(90)*cos(theta1)],\n[                                                         sin(90)*sin(theta2 + theta3 + theta4),                                                          sin(90)*cos(theta2 + theta3 + theta4),              cos(90),                                                                                                                                                          0.175*sin(90)*sin(theta2 + theta3) + 0.075*sin(90)*sin(theta2 + theta3 + theta4) + 0.175*sin(90)*sin(theta2) + 0.25],\n[                                                                                             0,                                                                                              0,                    0,                                                                                                                                                                                                                                                                            1]])",
      "text/latex": "$\\displaystyle \\left[\\begin{matrix}- \\sin{\\left(\\theta_{2} + \\theta_{3} + \\theta_{4} \\right)} \\sin{\\left(\\theta_{1} \\right)} \\cos{\\left(90 \\right)} + \\cos{\\left(\\theta_{2} + \\theta_{3} + \\theta_{4} \\right)} \\cos{\\left(\\theta_{1} \\right)} & - \\sin{\\left(\\theta_{2} + \\theta_{3} + \\theta_{4} \\right)} \\cos{\\left(\\theta_{1} \\right)} - \\sin{\\left(\\theta_{1} \\right)} \\cos{\\left(90 \\right)} \\cos{\\left(\\theta_{2} + \\theta_{3} + \\theta_{4} \\right)} & \\sin{\\left(90 \\right)} \\sin{\\left(\\theta_{1} \\right)} & - 0.175 \\sin{\\left(\\theta_{2} + \\theta_{3} \\right)} \\sin{\\left(\\theta_{1} \\right)} \\cos{\\left(90 \\right)} - 0.075 \\sin{\\left(\\theta_{2} + \\theta_{3} + \\theta_{4} \\right)} \\sin{\\left(\\theta_{1} \\right)} \\cos{\\left(90 \\right)} - 0.175 \\sin{\\left(\\theta_{1} \\right)} \\sin{\\left(\\theta_{2} \\right)} \\cos{\\left(90 \\right)} + 0.175 \\cos{\\left(\\theta_{2} + \\theta_{3} \\right)} \\cos{\\left(\\theta_{1} \\right)} + 0.075 \\cos{\\left(\\theta_{2} + \\theta_{3} + \\theta_{4} \\right)} \\cos{\\left(\\theta_{1} \\right)} + 0.175 \\cos{\\left(\\theta_{1} \\right)} \\cos{\\left(\\theta_{2} \\right)}\\\\\\sin{\\left(\\theta_{2} + \\theta_{3} + \\theta_{4} \\right)} \\cos{\\left(90 \\right)} \\cos{\\left(\\theta_{1} \\right)} + \\sin{\\left(\\theta_{1} \\right)} \\cos{\\left(\\theta_{2} + \\theta_{3} + \\theta_{4} \\right)} & - \\sin{\\left(\\theta_{2} + \\theta_{3} + \\theta_{4} \\right)} \\sin{\\left(\\theta_{1} \\right)} + \\cos{\\left(90 \\right)} \\cos{\\left(\\theta_{2} + \\theta_{3} + \\theta_{4} \\right)} \\cos{\\left(\\theta_{1} \\right)} & - \\sin{\\left(90 \\right)} \\cos{\\left(\\theta_{1} \\right)} & 0.175 \\sin{\\left(\\theta_{2} + \\theta_{3} \\right)} \\cos{\\left(90 \\right)} \\cos{\\left(\\theta_{1} \\right)} + 0.075 \\sin{\\left(\\theta_{2} + \\theta_{3} + \\theta_{4} \\right)} \\cos{\\left(90 \\right)} \\cos{\\left(\\theta_{1} \\right)} + 0.175 \\sin{\\left(\\theta_{1} \\right)} \\cos{\\left(\\theta_{2} + \\theta_{3} \\right)} + 0.075 \\sin{\\left(\\theta_{1} \\right)} \\cos{\\left(\\theta_{2} + \\theta_{3} + \\theta_{4} \\right)} + 0.175 \\sin{\\left(\\theta_{1} \\right)} \\cos{\\left(\\theta_{2} \\right)} + 0.175 \\sin{\\left(\\theta_{2} \\right)} \\cos{\\left(90 \\right)} \\cos{\\left(\\theta_{1} \\right)}\\\\\\sin{\\left(90 \\right)} \\sin{\\left(\\theta_{2} + \\theta_{3} + \\theta_{4} \\right)} & \\sin{\\left(90 \\right)} \\cos{\\left(\\theta_{2} + \\theta_{3} + \\theta_{4} \\right)} & \\cos{\\left(90 \\right)} & 0.175 \\sin{\\left(90 \\right)} \\sin{\\left(\\theta_{2} + \\theta_{3} \\right)} + 0.075 \\sin{\\left(90 \\right)} \\sin{\\left(\\theta_{2} + \\theta_{3} + \\theta_{4} \\right)} + 0.175 \\sin{\\left(90 \\right)} \\sin{\\left(\\theta_{2} \\right)} + 0.25\\\\0 & 0 & 0 & 1\\end{matrix}\\right]$"
     },
     "execution_count": 9,
     "metadata": {},
     "output_type": "execute_result"
    }
   ],
   "source": [
    "# Matriz Resultante M04 simplificada :\n",
    "mbee= sp.Matrix([[sp.trigsimp(m04[0,0].simplify()), sp.trigsimp(m04[0,1].simplify()), sp.trigsimp(m04[0,2].simplify()),sp.trigsimp(m04[0,3].simplify())],\n",
    "                 [sp.trigsimp(m04[1,0].simplify()), sp.trigsimp(m04[1,1].simplify()), sp.trigsimp(m04[1,2].simplify()),sp.trigsimp(m04[1,3].simplify())],\n",
    "                 [sp.trigsimp(m04[2,0].simplify()), m04[2,1].simplify(), sp.trigsimp(m04[2,2].simplify()),sp.trigsimp(m04[2,3].simplify())],\n",
    "                 [m04[3,0].simplify(), m04[3,1].simplify(), m04[3,2].simplify(),m04[3,3].simplify()]])\n",
    "\n",
    "mbee"
   ],
   "metadata": {
    "collapsed": false,
    "pycharm": {
     "name": "#%%\n"
    }
   }
  },
  {
   "cell_type": "code",
   "execution_count": null,
   "outputs": [],
   "source": [
    "px = mbee[0,3]\n",
    "print('x:')\n",
    "px"
   ],
   "metadata": {
    "collapsed": false,
    "pycharm": {
     "name": "#%%\n"
    }
   }
  },
  {
   "cell_type": "code",
   "execution_count": null,
   "outputs": [],
   "source": [
    "py = mbee[1,3]\n",
    "print('y:')\n",
    "py"
   ],
   "metadata": {
    "collapsed": false,
    "pycharm": {
     "name": "#%%\n"
    }
   }
  },
  {
   "cell_type": "code",
   "execution_count": null,
   "outputs": [],
   "source": [
    "pz = mbee[2,3]\n",
    "print('z:')\n",
    "pz\n"
   ],
   "metadata": {
    "collapsed": false,
    "pycharm": {
     "name": "#%%\n"
    }
   }
  }
 ],
 "metadata": {
  "kernelspec": {
   "display_name": "Python 3",
   "language": "python",
   "name": "python3"
  },
  "language_info": {
   "codemirror_mode": {
    "name": "ipython",
    "version": 2
   },
   "file_extension": ".py",
   "mimetype": "text/x-python",
   "name": "python",
   "nbconvert_exporter": "python",
   "pygments_lexer": "ipython2",
   "version": "2.7.6"
  }
 },
 "nbformat": 4,
 "nbformat_minor": 0
}