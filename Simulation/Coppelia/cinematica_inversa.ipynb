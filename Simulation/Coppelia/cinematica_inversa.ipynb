{
 "cells": [
  {
   "cell_type": "code",
   "execution_count": 85,
   "outputs": [
    {
     "data": {
      "text/plain": "(theta1, theta2, theta3, theta4, l1, l2, l3, l4, theta, alpha, a, d)",
      "text/latex": "$\\displaystyle \\left( \\theta_{1}, \\  \\theta_{2}, \\  \\theta_{3}, \\  \\theta_{4}, \\  l_{1}, \\  l_{2}, \\  l_{3}, \\  l_{4}, \\  \\theta, \\  \\alpha, \\  a, \\  d\\right)$"
     },
     "execution_count": 85,
     "metadata": {},
     "output_type": "execute_result"
    }
   ],
   "source": [
    "import numpy as np\n",
    "import sympy as sp\n",
    "from sympy import *\n",
    "from sympy.physics.vector import init_vprinting\n",
    "from math import pi\n",
    "init_vprinting(use_latex='mathjax', pretty_print=False)\n",
    "\n",
    "# declaramos los símbolos (longitudes, variables, etc.) que se utilizarán para una formulación posterior.\n",
    "\n",
    "from sympy.physics.mechanics import dynamicsymbols\n",
    "theta1, theta2, theta3, theta4, l1, l2, l3, l4, theta, alpha, a, d = dynamicsymbols('theta1 theta2 theta3 theta4 l1 l2 l3 l4 theta alpha a d')\n",
    "theta1, theta2, theta3, theta4, l1, l2, l3, l4, theta, alpha, a, d"
   ],
   "metadata": {
    "collapsed": false,
    "pycharm": {
     "name": "#%%\n"
    }
   }
  },
  {
   "cell_type": "code",
   "execution_count": 86,
   "outputs": [
    {
     "data": {
      "text/plain": "Matrix([\n[cos(theta), -sin(theta)*cos(alpha),  sin(alpha)*sin(theta), a*cos(theta)],\n[sin(theta),  cos(alpha)*cos(theta), -sin(alpha)*cos(theta), a*sin(theta)],\n[         0,             sin(alpha),             cos(alpha),            d],\n[         0,                      0,                      0,            1]])",
      "text/latex": "$\\displaystyle \\left[\\begin{matrix}\\cos{\\left(\\theta \\right)} & - \\sin{\\left(\\theta \\right)} \\cos{\\left(\\alpha \\right)} & \\sin{\\left(\\alpha \\right)} \\sin{\\left(\\theta \\right)} & a \\cos{\\left(\\theta \\right)}\\\\\\sin{\\left(\\theta \\right)} & \\cos{\\left(\\alpha \\right)} \\cos{\\left(\\theta \\right)} & - \\sin{\\left(\\alpha \\right)} \\cos{\\left(\\theta \\right)} & a \\sin{\\left(\\theta \\right)}\\\\0 & \\sin{\\left(\\alpha \\right)} & \\cos{\\left(\\alpha \\right)} & d\\\\0 & 0 & 0 & 1\\end{matrix}\\right]$"
     },
     "execution_count": 86,
     "metadata": {},
     "output_type": "execute_result"
    }
   ],
   "source": [
    "# La matriz de transformación homogénea estándar se representa como:\n",
    "\n",
    "rot = sp.Matrix([[sp.cos(theta), -sp.sin(theta)*sp.cos(alpha), sp.sin(theta)*sp.sin(alpha)],\n",
    "                 [sp.sin(theta), sp.cos(theta)*sp.cos(alpha), -sp.cos(theta)*sp.sin(alpha)],\n",
    "                 [0, sp.sin(alpha), sp.cos(alpha)]])\n",
    "\n",
    "trans = sp.Matrix([a*sp.cos(theta),a*sp.sin(theta),d])\n",
    "\n",
    "last_row = sp.Matrix([[0, 0, 0, 1]])\n",
    "\n",
    "m = sp.Matrix.vstack(sp.Matrix.hstack(rot, trans), last_row)\n",
    "m"
   ],
   "metadata": {
    "collapsed": false,
    "pycharm": {
     "name": "#%%\n"
    }
   }
  },
  {
   "cell_type": "code",
   "execution_count": 87,
   "outputs": [
    {
     "data": {
      "text/plain": "Matrix([\n[cos(theta1), -6.1e-17*sin(theta1),  1.0*sin(theta1),   0],\n[sin(theta1),  6.1e-17*cos(theta1), -1.0*cos(theta1),   0],\n[          0,                  1.0,          6.1e-17,  l1],\n[          0,                    0,                0, 1.0]])",
      "text/latex": "$\\displaystyle \\left[\\begin{matrix}\\cos{\\left(\\theta_{1} \\right)} & - 6.1 \\cdot 10^{-17} \\sin{\\left(\\theta_{1} \\right)} & 1.0 \\sin{\\left(\\theta_{1} \\right)} & 0\\\\\\sin{\\left(\\theta_{1} \\right)} & 6.1 \\cdot 10^{-17} \\cos{\\left(\\theta_{1} \\right)} & - 1.0 \\cos{\\left(\\theta_{1} \\right)} & 0\\\\0 & 1.0 & 6.1 \\cdot 10^{-17} & l_{1}\\\\0 & 0 & 0 & 1.0\\end{matrix}\\right]$"
     },
     "execution_count": 87,
     "metadata": {},
     "output_type": "execute_result"
    }
   ],
   "source": [
    "m01 = m.subs({ theta:theta1, d:l1, a:0 , alpha:90*np.pi/180})\n",
    "N(m01,2)"
   ],
   "metadata": {
    "collapsed": false,
    "pycharm": {
     "name": "#%%\n"
    }
   }
  },
  {
   "cell_type": "code",
   "execution_count": 89,
   "outputs": [
    {
     "data": {
      "text/plain": "Matrix([\n[cos(theta1),   0,  1.0*sin(theta1),  0],\n[sin(theta1),   0, -1.0*cos(theta1),  0],\n[          0, 1.0,                0, l1],\n[          0,   0,                0,  1]])",
      "text/latex": "$\\displaystyle \\left[\\begin{matrix}\\cos{\\left(\\theta_{1} \\right)} & 0 & 1.0 \\sin{\\left(\\theta_{1} \\right)} & 0\\\\\\sin{\\left(\\theta_{1} \\right)} & 0 & - 1.0 \\cos{\\left(\\theta_{1} \\right)} & 0\\\\0 & 1.0 & 0 & l_{1}\\\\0 & 0 & 0 & 1\\end{matrix}\\right]$"
     },
     "execution_count": 89,
     "metadata": {},
     "output_type": "execute_result"
    }
   ],
   "source": [
    "# redondear a 0\n",
    "m01[0,1]=0\n",
    "m01[1,1]=0\n",
    "m01[2,2]=0  #problema al redondear a 0  http://research.iac.es/sieinvens/python-course/source/sympy.html\n",
    "m01"
   ],
   "metadata": {
    "collapsed": false,
    "pycharm": {
     "name": "#%%\n"
    }
   }
  },
  {
   "cell_type": "code",
   "execution_count": 90,
   "outputs": [
    {
     "data": {
      "text/plain": "Matrix([\n[cos(theta2), -sin(theta2), 0, l2*cos(theta2)],\n[sin(theta2),  cos(theta2), 0, l2*sin(theta2)],\n[          0,            0, 1,              0],\n[          0,            0, 0,              1]])",
      "text/latex": "$\\displaystyle \\left[\\begin{matrix}\\cos{\\left(\\theta_{2} \\right)} & - \\sin{\\left(\\theta_{2} \\right)} & 0 & l_{2} \\cos{\\left(\\theta_{2} \\right)}\\\\\\sin{\\left(\\theta_{2} \\right)} & \\cos{\\left(\\theta_{2} \\right)} & 0 & l_{2} \\sin{\\left(\\theta_{2} \\right)}\\\\0 & 0 & 1 & 0\\\\0 & 0 & 0 & 1\\end{matrix}\\right]$"
     },
     "execution_count": 90,
     "metadata": {},
     "output_type": "execute_result"
    }
   ],
   "source": [
    "# Transformacion: 2º eje de  '1' a '2'\n",
    "m12 = m.subs({ theta:theta2, d:0, a:l2 ,alpha:0})\n",
    "m12"
   ],
   "metadata": {
    "collapsed": false,
    "pycharm": {
     "name": "#%%\n"
    }
   }
  },
  {
   "cell_type": "code",
   "execution_count": 91,
   "outputs": [
    {
     "data": {
      "text/plain": "Matrix([\n[cos(theta3), -sin(theta3), 0, l3*cos(theta3)],\n[sin(theta3),  cos(theta3), 0, l3*sin(theta3)],\n[          0,            0, 1,              0],\n[          0,            0, 0,              1]])",
      "text/latex": "$\\displaystyle \\left[\\begin{matrix}\\cos{\\left(\\theta_{3} \\right)} & - \\sin{\\left(\\theta_{3} \\right)} & 0 & l_{3} \\cos{\\left(\\theta_{3} \\right)}\\\\\\sin{\\left(\\theta_{3} \\right)} & \\cos{\\left(\\theta_{3} \\right)} & 0 & l_{3} \\sin{\\left(\\theta_{3} \\right)}\\\\0 & 0 & 1 & 0\\\\0 & 0 & 0 & 1\\end{matrix}\\right]$"
     },
     "execution_count": 91,
     "metadata": {},
     "output_type": "execute_result"
    }
   ],
   "source": [
    "# Transformacion: 3r eje de  '2' a '3'\n",
    "m23 = m.subs({ theta:theta3, d:0, a:l3 ,alpha:0})\n",
    "m23"
   ],
   "metadata": {
    "collapsed": false,
    "pycharm": {
     "name": "#%%\n"
    }
   }
  },
  {
   "cell_type": "code",
   "execution_count": 93,
   "outputs": [
    {
     "data": {
      "text/plain": "Matrix([\n[cos(theta4), -6.12323399573677e-17*sin(theta4),     -1.0*sin(theta4), 0],\n[sin(theta4),  6.12323399573677e-17*cos(theta4),      1.0*cos(theta4), 0],\n[          0,                              -1.0, 6.12323399573677e-17, 0],\n[          0,                                 0,                    0, 1]])",
      "text/latex": "$\\displaystyle \\left[\\begin{matrix}\\cos{\\left(\\theta_{4} \\right)} & - 6.12323399573677 \\cdot 10^{-17} \\sin{\\left(\\theta_{4} \\right)} & - 1.0 \\sin{\\left(\\theta_{4} \\right)} & 0\\\\\\sin{\\left(\\theta_{4} \\right)} & 6.12323399573677 \\cdot 10^{-17} \\cos{\\left(\\theta_{4} \\right)} & 1.0 \\cos{\\left(\\theta_{4} \\right)} & 0\\\\0 & -1.0 & 6.12323399573677 \\cdot 10^{-17} & 0\\\\0 & 0 & 0 & 1\\end{matrix}\\right]$"
     },
     "execution_count": 93,
     "metadata": {},
     "output_type": "execute_result"
    }
   ],
   "source": [
    "# Transformacion: 4o eje de  '3' a '4'\n",
    "m34 = m.subs({ theta:theta4, d:0, a:0 ,alpha:-90*np.pi/180})\n",
    "m34"
   ],
   "metadata": {
    "collapsed": false,
    "pycharm": {
     "name": "#%%\n"
    }
   }
  },
  {
   "cell_type": "code",
   "execution_count": 94,
   "outputs": [
    {
     "data": {
      "text/plain": "Matrix([\n[cos(theta4),    0, -1.0*sin(theta4), 0],\n[sin(theta4),    0,  1.0*cos(theta4), 0],\n[          0, -1.0,                0, 0],\n[          0,    0,                0, 1]])",
      "text/latex": "$\\displaystyle \\left[\\begin{matrix}\\cos{\\left(\\theta_{4} \\right)} & 0 & - 1.0 \\sin{\\left(\\theta_{4} \\right)} & 0\\\\\\sin{\\left(\\theta_{4} \\right)} & 0 & 1.0 \\cos{\\left(\\theta_{4} \\right)} & 0\\\\0 & -1.0 & 0 & 0\\\\0 & 0 & 0 & 1\\end{matrix}\\right]$"
     },
     "execution_count": 94,
     "metadata": {},
     "output_type": "execute_result"
    }
   ],
   "source": [
    "# Resolvemos el problema de Sympy para redondear a 0 asignando directamente el valor\n",
    "m34[0,1]=0\n",
    "m34[1,1]=0\n",
    "m34[2,2]=0  #problema al redondear a 0  http://research.iac.es/sieinvens/python-course/source/sympy.html\n",
    "m34"
   ],
   "metadata": {
    "collapsed": false,
    "pycharm": {
     "name": "#%%\n"
    }
   }
  },
  {
   "cell_type": "code",
   "execution_count": 95,
   "outputs": [
    {
     "data": {
      "text/plain": "Matrix([\n[-sin(theta2)*sin(theta3)*cos(theta1) + cos(theta1)*cos(theta2)*cos(theta3), -sin(theta2)*cos(theta1)*cos(theta3) - sin(theta3)*cos(theta1)*cos(theta2),  1.0*sin(theta1), l2*cos(theta1)*cos(theta2) - l3*sin(theta2)*sin(theta3)*cos(theta1) + l3*cos(theta1)*cos(theta2)*cos(theta3)],\n[-sin(theta1)*sin(theta2)*sin(theta3) + sin(theta1)*cos(theta2)*cos(theta3), -sin(theta1)*sin(theta2)*cos(theta3) - sin(theta1)*sin(theta3)*cos(theta2), -1.0*cos(theta1), l2*sin(theta1)*cos(theta2) - l3*sin(theta1)*sin(theta2)*sin(theta3) + l3*sin(theta1)*cos(theta2)*cos(theta3)],\n[                 1.0*sin(theta2)*cos(theta3) + 1.0*sin(theta3)*cos(theta2),                 -1.0*sin(theta2)*sin(theta3) + 1.0*cos(theta2)*cos(theta3),                0,                    l1 + 1.0*l2*sin(theta2) + 1.0*l3*sin(theta2)*cos(theta3) + 1.0*l3*sin(theta3)*cos(theta2)],\n[                                                                         0,                                                                          0,                0,                                                                                                            1]])",
      "text/latex": "$\\displaystyle \\left[\\begin{matrix}- \\sin{\\left(\\theta_{2} \\right)} \\sin{\\left(\\theta_{3} \\right)} \\cos{\\left(\\theta_{1} \\right)} + \\cos{\\left(\\theta_{1} \\right)} \\cos{\\left(\\theta_{2} \\right)} \\cos{\\left(\\theta_{3} \\right)} & - \\sin{\\left(\\theta_{2} \\right)} \\cos{\\left(\\theta_{1} \\right)} \\cos{\\left(\\theta_{3} \\right)} - \\sin{\\left(\\theta_{3} \\right)} \\cos{\\left(\\theta_{1} \\right)} \\cos{\\left(\\theta_{2} \\right)} & 1.0 \\sin{\\left(\\theta_{1} \\right)} & l_{2} \\cos{\\left(\\theta_{1} \\right)} \\cos{\\left(\\theta_{2} \\right)} - l_{3} \\sin{\\left(\\theta_{2} \\right)} \\sin{\\left(\\theta_{3} \\right)} \\cos{\\left(\\theta_{1} \\right)} + l_{3} \\cos{\\left(\\theta_{1} \\right)} \\cos{\\left(\\theta_{2} \\right)} \\cos{\\left(\\theta_{3} \\right)}\\\\- \\sin{\\left(\\theta_{1} \\right)} \\sin{\\left(\\theta_{2} \\right)} \\sin{\\left(\\theta_{3} \\right)} + \\sin{\\left(\\theta_{1} \\right)} \\cos{\\left(\\theta_{2} \\right)} \\cos{\\left(\\theta_{3} \\right)} & - \\sin{\\left(\\theta_{1} \\right)} \\sin{\\left(\\theta_{2} \\right)} \\cos{\\left(\\theta_{3} \\right)} - \\sin{\\left(\\theta_{1} \\right)} \\sin{\\left(\\theta_{3} \\right)} \\cos{\\left(\\theta_{2} \\right)} & - 1.0 \\cos{\\left(\\theta_{1} \\right)} & l_{2} \\sin{\\left(\\theta_{1} \\right)} \\cos{\\left(\\theta_{2} \\right)} - l_{3} \\sin{\\left(\\theta_{1} \\right)} \\sin{\\left(\\theta_{2} \\right)} \\sin{\\left(\\theta_{3} \\right)} + l_{3} \\sin{\\left(\\theta_{1} \\right)} \\cos{\\left(\\theta_{2} \\right)} \\cos{\\left(\\theta_{3} \\right)}\\\\1.0 \\sin{\\left(\\theta_{2} \\right)} \\cos{\\left(\\theta_{3} \\right)} + 1.0 \\sin{\\left(\\theta_{3} \\right)} \\cos{\\left(\\theta_{2} \\right)} & - 1.0 \\sin{\\left(\\theta_{2} \\right)} \\sin{\\left(\\theta_{3} \\right)} + 1.0 \\cos{\\left(\\theta_{2} \\right)} \\cos{\\left(\\theta_{3} \\right)} & 0 & l_{1} + 1.0 l_{2} \\sin{\\left(\\theta_{2} \\right)} + 1.0 l_{3} \\sin{\\left(\\theta_{2} \\right)} \\cos{\\left(\\theta_{3} \\right)} + 1.0 l_{3} \\sin{\\left(\\theta_{3} \\right)} \\cos{\\left(\\theta_{2} \\right)}\\\\0 & 0 & 0 & 1\\end{matrix}\\right]$"
     },
     "execution_count": 95,
     "metadata": {},
     "output_type": "execute_result"
    }
   ],
   "source": [
    "#SACAMÇOS LA MATRIZ DE LOS 3 PRIMEROS EJES PARA QUE OBSERVEIS QUE EL PUNTO X,Y,Z FINAL ES EL MISMO\n",
    "m03 = (m01*m12*m23)\n",
    "m03"
   ],
   "metadata": {
    "collapsed": false,
    "pycharm": {
     "name": "#%%\n"
    }
   }
  },
  {
   "cell_type": "code",
   "execution_count": null,
   "outputs": [],
   "source": [
    "# SACAMOS LA MATRIZ DE TODOS LOS EJES, COM VEIS SOLO CAMBIA LA ORIENTACIÓN DEL MANIPULADOR\n",
    "m04 = (m01*m12*m23*m34)\n",
    "m04"
   ],
   "metadata": {
    "collapsed": false,
    "pycharm": {
     "name": "#%%\n"
    }
   }
  },
  {
   "cell_type": "code",
   "execution_count": 96,
   "outputs": [
    {
     "data": {
      "text/plain": "Matrix([\n[cos(theta2 + theta3)*cos(theta1), -sin(theta2 + theta3)*cos(theta1),  1.0*sin(theta1), (l2*cos(theta2) + l3*cos(theta2 + theta3))*cos(theta1)],\n[sin(theta1)*cos(theta2 + theta3), -sin(theta2 + theta3)*sin(theta1), -1.0*cos(theta1), (l2*cos(theta2) + l3*cos(theta2 + theta3))*sin(theta1)],\n[        1.0*sin(theta2 + theta3),          1.0*cos(theta2 + theta3),                0,    1.0*(l1 + l2*sin(theta2) + l3*sin(theta2 + theta3))],\n[                               0,                                 0,                0,                                                      1]])",
      "text/latex": "$\\displaystyle \\left[\\begin{matrix}\\cos{\\left(\\theta_{2} + \\theta_{3} \\right)} \\cos{\\left(\\theta_{1} \\right)} & - \\sin{\\left(\\theta_{2} + \\theta_{3} \\right)} \\cos{\\left(\\theta_{1} \\right)} & 1.0 \\sin{\\left(\\theta_{1} \\right)} & \\left(l_{2} \\cos{\\left(\\theta_{2} \\right)} + l_{3} \\cos{\\left(\\theta_{2} + \\theta_{3} \\right)}\\right) \\cos{\\left(\\theta_{1} \\right)}\\\\\\sin{\\left(\\theta_{1} \\right)} \\cos{\\left(\\theta_{2} + \\theta_{3} \\right)} & - \\sin{\\left(\\theta_{2} + \\theta_{3} \\right)} \\sin{\\left(\\theta_{1} \\right)} & - 1.0 \\cos{\\left(\\theta_{1} \\right)} & \\left(l_{2} \\cos{\\left(\\theta_{2} \\right)} + l_{3} \\cos{\\left(\\theta_{2} + \\theta_{3} \\right)}\\right) \\sin{\\left(\\theta_{1} \\right)}\\\\1.0 \\sin{\\left(\\theta_{2} + \\theta_{3} \\right)} & 1.0 \\cos{\\left(\\theta_{2} + \\theta_{3} \\right)} & 0 & 1.0 \\left(l_{1} + l_{2} \\sin{\\left(\\theta_{2} \\right)} + l_{3} \\sin{\\left(\\theta_{2} + \\theta_{3} \\right)}\\right)\\\\0 & 0 & 0 & 1\\end{matrix}\\right]$"
     },
     "execution_count": 96,
     "metadata": {},
     "output_type": "execute_result"
    }
   ],
   "source": [
    "# Matriz Resultante M04 simplificada :\n",
    "mbee= sp.Matrix([[sp.trigsimp(m03[0,0].simplify()), sp.trigsimp(m03[0,1].simplify()), sp.trigsimp(m03[0,2].simplify()),sp.trigsimp(m03[0,3].simplify())],\n",
    "                 [sp.trigsimp(m03[1,0].simplify()), sp.trigsimp(m03[1,1].simplify()), sp.trigsimp(m03[1,2].simplify()),sp.trigsimp(m03[1,3].simplify())],\n",
    "                 [sp.trigsimp(m03[2,0].simplify()), m03[2,1].simplify(), sp.trigsimp(m03[2,2].simplify()),sp.trigsimp(m03[2,3].simplify())],\n",
    "                 [m03[3,0].simplify(), m03[3,1].simplify(), m03[3,2].simplify(),m03[3,3].simplify()]])\n",
    "\n",
    "mbee"
   ],
   "metadata": {
    "collapsed": false,
    "pycharm": {
     "name": "#%%\n"
    }
   }
  }
 ],
 "metadata": {
  "kernelspec": {
   "display_name": "Python 3",
   "language": "python",
   "name": "python3"
  },
  "language_info": {
   "codemirror_mode": {
    "name": "ipython",
    "version": 2
   },
   "file_extension": ".py",
   "mimetype": "text/x-python",
   "name": "python",
   "nbconvert_exporter": "python",
   "pygments_lexer": "ipython2",
   "version": "2.7.6"
  }
 },
 "nbformat": 4,
 "nbformat_minor": 0
}